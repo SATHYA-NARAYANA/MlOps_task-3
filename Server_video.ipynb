{
 "cells": [
  {
   "cell_type": "markdown",
   "metadata": {},
   "source": [
    "# Required Library"
   ]
  },
  {
   "cell_type": "code",
   "execution_count": 1,
   "metadata": {},
   "outputs": [],
   "source": [
    "import socket\n",
    "import cv2\n",
    "import pickle\n",
    "import struct\n",
    "import imutils"
   ]
  },
  {
   "cell_type": "code",
   "execution_count": null,
   "metadata": {
    "scrolled": true
   },
   "outputs": [
    {
     "name": "stdout",
     "output_type": "stream",
     "text": [
      "HOST IP: 192.168.43.252\n",
      "Listening at: ('192.168.43.252', 5050)\n"
     ]
    }
   ],
   "source": [
    "#Creating \n",
    "s = socket.socket(socket.AF_INET,socket.SOCK_STREAM)\n",
    "host_name  = socket.gethostname()\n",
    "host_ip = socket.gethostbyname(host_name)\n",
    "print('HOST IP:',host_ip)\n",
    "port = 5050\n",
    "socket_addr = (host_ip,port)\n",
    "\n",
    "# Socket Binding\n",
    "s.bind(socket_addr)\n",
    "\n",
    "# Socket Listening\n",
    "s.listen(5)\n",
    "print(\"Listening at:\",socket_addr)\n",
    "\n",
    "# Socket Accepting\n",
    "while True:\n",
    "    client_socket,addr = s.accept()\n",
    "    print('connection extablished ',addr)\n",
    "    if client_socket:\n",
    "        cap = cv2.VideoCapture(0)\n",
    "\n",
    "        while(cap.isOpened()):\n",
    "            ret,pic = cap.read()\n",
    "            pic = imutils.resize(pic,width=320)\n",
    "            a = pickle.dumps(pic)\n",
    "            message = struct.pack(\"Q\",len(a))+a\n",
    "            \n",
    "            # Socket client\n",
    "            client_socket.sendall(message)\n",
    "            cv2.imshow('TRANSMITTING VIDEO',pic)\n",
    "            key = cv2.waitKey(1) & 0xFF\n",
    "           \n",
    "            # Close client\n",
    "            if key ==ord('q'):\n",
    "                client_socket.close()\n",
    "cv2.destroyAllWindows()"
   ]
  },
  {
   "cell_type": "code",
   "execution_count": null,
   "metadata": {},
   "outputs": [],
   "source": []
  },
  {
   "cell_type": "code",
   "execution_count": null,
   "metadata": {},
   "outputs": [],
   "source": []
  },
  {
   "cell_type": "code",
   "execution_count": null,
   "metadata": {},
   "outputs": [],
   "source": []
  }
 ],
 "metadata": {
  "kernelspec": {
   "display_name": "Python 3",
   "language": "python",
   "name": "python3"
  },
  "language_info": {
   "codemirror_mode": {
    "name": "ipython",
    "version": 3
   },
   "file_extension": ".py",
   "mimetype": "text/x-python",
   "name": "python",
   "nbconvert_exporter": "python",
   "pygments_lexer": "ipython3",
   "version": "3.8.8"
  }
 },
 "nbformat": 4,
 "nbformat_minor": 4
}
